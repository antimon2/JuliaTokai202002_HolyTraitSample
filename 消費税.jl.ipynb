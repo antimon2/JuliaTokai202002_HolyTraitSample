{
 "cells": [
  {
   "cell_type": "markdown",
   "metadata": {},
   "source": [
    "## 商品型（抽象型）"
   ]
  },
  {
   "cell_type": "code",
   "execution_count": 1,
   "metadata": {
    "ExecuteTime": {
     "end_time": "2020-02-08T14:15:01.281000+09:00",
     "start_time": "2020-02-08T05:14:59.988Z"
    }
   },
   "outputs": [],
   "source": [
    "abstract type 商品 end"
   ]
  },
  {
   "cell_type": "code",
   "execution_count": 2,
   "metadata": {
    "ExecuteTime": {
     "end_time": "2020-02-08T14:15:02.247000+09:00",
     "start_time": "2020-02-08T05:15:01.703Z"
    }
   },
   "outputs": [
    {
     "data": {
      "text/plain": [
       "本体価格 (generic function with 1 method)"
      ]
     },
     "execution_count": 2,
     "metadata": {},
     "output_type": "execute_result"
    }
   ],
   "source": [
    "本体価格(v::商品) = v.price"
   ]
  },
  {
   "cell_type": "markdown",
   "metadata": {},
   "source": [
    "## 税率型（抽象型、Trait型）"
   ]
  },
  {
   "cell_type": "code",
   "execution_count": 3,
   "metadata": {
    "ExecuteTime": {
     "end_time": "2020-02-08T14:15:02.963000+09:00",
     "start_time": "2020-02-08T05:15:02.958Z"
    }
   },
   "outputs": [],
   "source": [
    "abstract type 税率 end"
   ]
  },
  {
   "cell_type": "code",
   "execution_count": 4,
   "metadata": {
    "ExecuteTime": {
     "end_time": "2020-02-08T14:15:03.692000+09:00",
     "start_time": "2020-02-08T05:15:03.641Z"
    }
   },
   "outputs": [],
   "source": [
    "struct 標準税率 <: 税率 end\n",
    "struct 軽減税率 <: 税率 end"
   ]
  },
  {
   "cell_type": "code",
   "execution_count": 5,
   "metadata": {
    "ExecuteTime": {
     "end_time": "2020-02-08T14:15:04.373000+09:00",
     "start_time": "2020-02-08T05:15:04.278Z"
    }
   },
   "outputs": [
    {
     "data": {
      "text/plain": [
       "税込価格 (generic function with 3 methods)"
      ]
     },
     "execution_count": 5,
     "metadata": {},
     "output_type": "execute_result"
    }
   ],
   "source": [
    "税込価格(v::T) where {T <: 商品} = 税込価格(税率(T), v)\n",
    "税込価格(::標準税率, v) = floor(Int, 本体価格(v) * 1.1)\n",
    "税込価格(::軽減税率, v) = floor(Int, 本体価格(v) * 1.08)"
   ]
  },
  {
   "cell_type": "markdown",
   "metadata": {},
   "source": [
    "### 標準税率"
   ]
  },
  {
   "cell_type": "code",
   "execution_count": 6,
   "metadata": {
    "ExecuteTime": {
     "end_time": "2020-02-08T14:15:05.600000+09:00",
     "start_time": "2020-02-08T05:15:05.372Z"
    }
   },
   "outputs": [
    {
     "data": {
      "text/plain": [
       "税率"
      ]
     },
     "execution_count": 6,
     "metadata": {},
     "output_type": "execute_result"
    }
   ],
   "source": [
    "税率(::Type{<:商品}) = 標準税率()"
   ]
  },
  {
   "cell_type": "markdown",
   "metadata": {},
   "source": [
    "#### 例"
   ]
  },
  {
   "cell_type": "code",
   "execution_count": 7,
   "metadata": {
    "ExecuteTime": {
     "end_time": "2020-02-08T14:15:06.854000+09:00",
     "start_time": "2020-02-08T05:15:06.847Z"
    }
   },
   "outputs": [],
   "source": [
    "struct 衣料品 <: 商品\n",
    "    name::String\n",
    "    price::Int\n",
    "end"
   ]
  },
  {
   "cell_type": "code",
   "execution_count": 8,
   "metadata": {
    "ExecuteTime": {
     "end_time": "2020-02-08T14:15:08.258000+09:00",
     "start_time": "2020-02-08T05:15:08.013Z"
    }
   },
   "outputs": [
    {
     "data": {
      "text/plain": [
       "衣料品(\"ダウンコート\", 30000)"
      ]
     },
     "execution_count": 8,
     "metadata": {},
     "output_type": "execute_result"
    }
   ],
   "source": [
    "コート = 衣料品(\"ダウンコート\", 30000)"
   ]
  },
  {
   "cell_type": "code",
   "execution_count": 9,
   "metadata": {
    "ExecuteTime": {
     "end_time": "2020-02-08T14:15:13.727000+09:00",
     "start_time": "2020-02-08T05:15:13.491Z"
    }
   },
   "outputs": [
    {
     "data": {
      "text/plain": [
       "33000"
      ]
     },
     "execution_count": 9,
     "metadata": {},
     "output_type": "execute_result"
    }
   ],
   "source": [
    "税込価格(コート)"
   ]
  },
  {
   "cell_type": "code",
   "execution_count": 10,
   "metadata": {
    "ExecuteTime": {
     "end_time": "2020-02-08T14:15:15.089000+09:00",
     "start_time": "2020-02-08T05:15:15.080Z"
    }
   },
   "outputs": [],
   "source": [
    "struct 書籍 <: 商品\n",
    "    name::String\n",
    "    author::String\n",
    "    price::Int\n",
    "end"
   ]
  },
  {
   "cell_type": "code",
   "execution_count": 11,
   "metadata": {
    "ExecuteTime": {
     "end_time": "2020-02-08T14:15:16.657000+09:00",
     "start_time": "2020-02-08T05:15:16.473Z"
    }
   },
   "outputs": [
    {
     "data": {
      "text/plain": [
       "書籍(\"龍が目を覚ます\", \"宮木みゆべ\", 1980)"
      ]
     },
     "execution_count": 11,
     "metadata": {},
     "output_type": "execute_result"
    }
   ],
   "source": [
    "本₁ = 書籍(\"龍が目を覚ます\", \"宮木みゆべ\", 1980)"
   ]
  },
  {
   "cell_type": "code",
   "execution_count": 12,
   "metadata": {
    "ExecuteTime": {
     "end_time": "2020-02-08T14:15:17.470000+09:00",
     "start_time": "2020-02-08T05:15:17.446Z"
    }
   },
   "outputs": [
    {
     "data": {
      "text/plain": [
       "2178"
      ]
     },
     "execution_count": 12,
     "metadata": {},
     "output_type": "execute_result"
    }
   ],
   "source": [
    "税込価格(本₁)"
   ]
  },
  {
   "cell_type": "markdown",
   "metadata": {},
   "source": [
    "### 軽減税率"
   ]
  },
  {
   "cell_type": "markdown",
   "metadata": {},
   "source": [
    "#### 新聞（定期購読）"
   ]
  },
  {
   "cell_type": "code",
   "execution_count": 13,
   "metadata": {
    "ExecuteTime": {
     "end_time": "2020-02-08T14:17:41.492000+09:00",
     "start_time": "2020-02-08T05:17:41.480Z"
    }
   },
   "outputs": [],
   "source": [
    "using Dates"
   ]
  },
  {
   "cell_type": "code",
   "execution_count": 14,
   "metadata": {
    "ExecuteTime": {
     "end_time": "2020-02-08T14:17:44.087000+09:00",
     "start_time": "2020-02-08T05:17:44.037Z"
    }
   },
   "outputs": [
    {
     "data": {
      "text/plain": [
       "定期購読新聞"
      ]
     },
     "execution_count": 14,
     "metadata": {},
     "output_type": "execute_result"
    }
   ],
   "source": [
    "struct 定期購読新聞 <: 商品\n",
    "    name::String\n",
    "    term::AbstractRange{Date}\n",
    "    price::Int\n",
    "end\n",
    "\n",
    "定期購読新聞(name, date::Date, price) = 定期購読新聞(name, date:Day(1):lastdayofmonth(date), price)\n",
    "定期購読新聞(name, startdate::Date, enddate::Date, price) = 定期購読新聞(name, startdate:Day(1):enddate, price)"
   ]
  },
  {
   "cell_type": "code",
   "execution_count": 15,
   "metadata": {
    "ExecuteTime": {
     "end_time": "2020-02-08T14:17:45.712000+09:00",
     "start_time": "2020-02-08T05:17:45.707Z"
    }
   },
   "outputs": [
    {
     "data": {
      "text/plain": [
       "税率"
      ]
     },
     "execution_count": 15,
     "metadata": {},
     "output_type": "execute_result"
    }
   ],
   "source": [
    "税率(::Type{定期購読新聞}) = 軽減税率()"
   ]
  },
  {
   "cell_type": "markdown",
   "metadata": {},
   "source": [
    "↑Point！"
   ]
  },
  {
   "cell_type": "code",
   "execution_count": 16,
   "metadata": {
    "ExecuteTime": {
     "end_time": "2020-02-08T14:17:50.604000+09:00",
     "start_time": "2020-02-08T05:17:50.368Z"
    }
   },
   "outputs": [
    {
     "data": {
      "text/plain": [
       "定期購読新聞(\"毎朝新聞\", 2020-02-01:1 day:2021-01-31, 50000)"
      ]
     },
     "execution_count": 16,
     "metadata": {},
     "output_type": "execute_result"
    }
   ],
   "source": [
    "新聞_年間契約 = 定期購読新聞(\"毎朝新聞\", Date(2020, 2, 1), Date(2021, 1, 31), 50000)"
   ]
  },
  {
   "cell_type": "code",
   "execution_count": 17,
   "metadata": {
    "ExecuteTime": {
     "end_time": "2020-02-08T14:17:51.127000+09:00",
     "start_time": "2020-02-08T05:17:51.105Z"
    }
   },
   "outputs": [
    {
     "data": {
      "text/plain": [
       "54000"
      ]
     },
     "execution_count": 17,
     "metadata": {},
     "output_type": "execute_result"
    }
   ],
   "source": [
    "税込価格(新聞_年間契約)"
   ]
  },
  {
   "cell_type": "markdown",
   "metadata": {},
   "source": [
    "#### 飲食料品…"
   ]
  },
  {
   "cell_type": "code",
   "execution_count": 18,
   "metadata": {
    "ExecuteTime": {
     "end_time": "2020-02-08T14:17:52.686000+09:00",
     "start_time": "2020-02-08T05:17:52.678Z"
    }
   },
   "outputs": [],
   "source": [
    "struct 飲食料品 <: 商品\n",
    "    name::String\n",
    "    price::Int\n",
    "end"
   ]
  },
  {
   "cell_type": "code",
   "execution_count": null,
   "metadata": {
    "ExecuteTime": {
     "end_time": "2020-02-06T18:11:00.806000+09:00",
     "start_time": "2020-02-06T09:10:57.743Z"
    }
   },
   "outputs": [],
   "source": [
    "# 税率(::Type{飲食料品}) = 軽減税率()  # ???"
   ]
  },
  {
   "cell_type": "markdown",
   "metadata": {},
   "source": [
    "#### 飲食料品： 持ち帰りか店内飲食か"
   ]
  },
  {
   "cell_type": "code",
   "execution_count": 19,
   "metadata": {
    "ExecuteTime": {
     "end_time": "2020-02-08T14:18:07.006000+09:00",
     "start_time": "2020-02-08T05:18:06.994Z"
    }
   },
   "outputs": [],
   "source": [
    "abstract type 提供形態 end\n",
    "struct 持ち帰り <: 提供形態 end\n",
    "struct 店内飲食 <: 提供形態 end"
   ]
  },
  {
   "cell_type": "code",
   "execution_count": 20,
   "metadata": {
    "ExecuteTime": {
     "end_time": "2020-02-08T14:18:08.030000+09:00",
     "start_time": "2020-02-08T05:18:08.017Z"
    }
   },
   "outputs": [
    {
     "data": {
      "text/plain": [
       "税率"
      ]
     },
     "execution_count": 20,
     "metadata": {},
     "output_type": "execute_result"
    }
   ],
   "source": [
    "税率(::Type{飲食料品}, ::Type{<:提供形態}) = 標準税率()\n",
    "税率(::Type{飲食料品}, ::Type{持ち帰り}) = 軽減税率()"
   ]
  },
  {
   "cell_type": "markdown",
   "metadata": {},
   "source": [
    "↑Point！"
   ]
  },
  {
   "cell_type": "code",
   "execution_count": 21,
   "metadata": {
    "ExecuteTime": {
     "end_time": "2020-02-08T14:18:16.986000+09:00",
     "start_time": "2020-02-08T05:18:16.976Z"
    }
   },
   "outputs": [
    {
     "data": {
      "text/plain": [
       "税込価格 (generic function with 5 methods)"
      ]
     },
     "execution_count": 21,
     "metadata": {},
     "output_type": "execute_result"
    }
   ],
   "source": [
    "税込価格(v::飲食料品, ::K = 持ち帰り()) where {K <: 提供形態} = 税込価格(税率(飲食料品, K), v)"
   ]
  },
  {
   "cell_type": "code",
   "execution_count": 22,
   "metadata": {
    "ExecuteTime": {
     "end_time": "2020-02-08T14:18:27.807000+09:00",
     "start_time": "2020-02-08T05:18:27.713Z"
    }
   },
   "outputs": [
    {
     "data": {
      "text/plain": [
       "宅配 (generic function with 1 method)"
      ]
     },
     "execution_count": 22,
     "metadata": {},
     "output_type": "execute_result"
    }
   ],
   "source": [
    "外食() = 店内飲食()\n",
    "イートイン() = 店内飲食()\n",
    "\n",
    "出前() = 持ち帰り()\n",
    "宅配() = 持ち帰り()"
   ]
  },
  {
   "cell_type": "code",
   "execution_count": 23,
   "metadata": {
    "ExecuteTime": {
     "end_time": "2020-02-08T14:18:29.273000+09:00",
     "start_time": "2020-02-08T05:18:29.111Z"
    }
   },
   "outputs": [
    {
     "data": {
      "text/plain": [
       "飲食料品(\"あんぱん\", 128)"
      ]
     },
     "execution_count": 23,
     "metadata": {},
     "output_type": "execute_result"
    }
   ],
   "source": [
    "あんぱん = 飲食料品(\"あんぱん\", 128)"
   ]
  },
  {
   "cell_type": "code",
   "execution_count": 24,
   "metadata": {
    "ExecuteTime": {
     "end_time": "2020-02-08T14:18:30.943000+09:00",
     "start_time": "2020-02-08T05:18:30.926Z"
    }
   },
   "outputs": [
    {
     "data": {
      "text/plain": [
       "138"
      ]
     },
     "execution_count": 24,
     "metadata": {},
     "output_type": "execute_result"
    }
   ],
   "source": [
    "税込価格(あんぱん)"
   ]
  },
  {
   "cell_type": "code",
   "execution_count": 25,
   "metadata": {
    "ExecuteTime": {
     "end_time": "2020-02-08T14:18:31.411000+09:00",
     "start_time": "2020-02-08T05:18:31.366Z"
    }
   },
   "outputs": [
    {
     "data": {
      "text/plain": [
       "138"
      ]
     },
     "execution_count": 25,
     "metadata": {},
     "output_type": "execute_result"
    }
   ],
   "source": [
    "税込価格(あんぱん, 持ち帰り())"
   ]
  },
  {
   "cell_type": "code",
   "execution_count": 26,
   "metadata": {
    "ExecuteTime": {
     "end_time": "2020-02-08T14:18:32.066000+09:00",
     "start_time": "2020-02-08T05:18:32.039Z"
    }
   },
   "outputs": [
    {
     "data": {
      "text/plain": [
       "140"
      ]
     },
     "execution_count": 26,
     "metadata": {},
     "output_type": "execute_result"
    }
   ],
   "source": [
    "税込価格(あんぱん, イートイン())"
   ]
  },
  {
   "cell_type": "code",
   "execution_count": 27,
   "metadata": {
    "ExecuteTime": {
     "end_time": "2020-02-08T14:18:33.181000+09:00",
     "start_time": "2020-02-08T05:18:33.178Z"
    }
   },
   "outputs": [
    {
     "data": {
      "text/plain": [
       "飲食料品(\"かけそば\", 580)"
      ]
     },
     "execution_count": 27,
     "metadata": {},
     "output_type": "execute_result"
    }
   ],
   "source": [
    "そば = 飲食料品(\"かけそば\", 580)"
   ]
  },
  {
   "cell_type": "code",
   "execution_count": 28,
   "metadata": {
    "ExecuteTime": {
     "end_time": "2020-02-08T14:18:33.913000+09:00",
     "start_time": "2020-02-08T05:18:33.906Z"
    }
   },
   "outputs": [
    {
     "data": {
      "text/plain": [
       "638"
      ]
     },
     "execution_count": 28,
     "metadata": {},
     "output_type": "execute_result"
    }
   ],
   "source": [
    "税込価格(そば, 店内飲食())"
   ]
  },
  {
   "cell_type": "code",
   "execution_count": 29,
   "metadata": {
    "ExecuteTime": {
     "end_time": "2020-02-08T14:18:34.696000+09:00",
     "start_time": "2020-02-08T05:18:34.690Z"
    }
   },
   "outputs": [
    {
     "data": {
      "text/plain": [
       "626"
      ]
     },
     "execution_count": 29,
     "metadata": {},
     "output_type": "execute_result"
    }
   ],
   "source": [
    "税込価格(そば, 出前())"
   ]
  },
  {
   "cell_type": "markdown",
   "metadata": {},
   "source": [
    "Memo:\n",
    "\n",
    "飲食料品は、商品そのものの性質以外に、提供形態（＝購入時の状況）によって税率が変わる  \n",
    "  → 税込価格を計算する際に、商品以外に「提供形態」の情報が必要  \n",
    "  → 2引数"
   ]
  },
  {
   "cell_type": "markdown",
   "metadata": {},
   "source": [
    "#### 一体型商品…"
   ]
  },
  {
   "cell_type": "markdown",
   "metadata": {},
   "source": [
    "飲食料品とその他（おまけ、容器等）の一体型商品の場合：\n",
    "\n",
    "+ 飲食料品以外が価格比で本体価格の 1/3 を超える → 軽減税率対象外（＝標準税率）\n",
    "    + 例：ティーカップとお菓子のセット、おまけがメインの食玩・駄菓子\n",
    "+ 本体価格が ¥10,000 以上 → 軽減税率対象外（＝標準税率）\n",
    "    + 例：高級おせち料理セット\n",
    "+ 上記2つをいずれも満たさないもの → 軽減税率\n",
    "    + 例：おまけシール付きのお菓子（おまけのほうが十分に安いもの）"
   ]
  },
  {
   "cell_type": "code",
   "execution_count": 30,
   "metadata": {
    "ExecuteTime": {
     "end_time": "2020-02-08T14:18:41.231000+09:00",
     "start_time": "2020-02-08T05:18:41.208Z"
    }
   },
   "outputs": [
    {
     "data": {
      "text/plain": [
       "PriceCost"
      ]
     },
     "execution_count": 30,
     "metadata": {},
     "output_type": "execute_result"
    }
   ],
   "source": [
    "abstract type PriceCost end\n",
    "struct Expensive <: PriceCost end\n",
    "struct Inexpensive <: PriceCost end\n",
    "\n",
    "PriceCost(v::Int) = v ≥ 10000 ? Expensive() : Inexpensive()"
   ]
  },
  {
   "cell_type": "code",
   "execution_count": 31,
   "metadata": {
    "ExecuteTime": {
     "end_time": "2020-02-08T14:18:42.328000+09:00",
     "start_time": "2020-02-08T05:18:42.313Z"
    }
   },
   "outputs": [
    {
     "data": {
      "text/plain": [
       "PriceRateOfFood"
      ]
     },
     "execution_count": 31,
     "metadata": {},
     "output_type": "execute_result"
    }
   ],
   "source": [
    "abstract type PriceRateOfFood end\n",
    "struct HighRate <: PriceRateOfFood end\n",
    "struct LowRate <: PriceRateOfFood end\n",
    "\n",
    "PriceRateOfFood(price, groceriesprice) = (price - groceriesprice) * 3 > price ? LowRate() : HighRate()"
   ]
  },
  {
   "cell_type": "code",
   "execution_count": 32,
   "metadata": {
    "ExecuteTime": {
     "end_time": "2020-02-08T14:18:44.479000+09:00",
     "start_time": "2020-02-08T05:18:44.424Z"
    }
   },
   "outputs": [],
   "source": [
    "struct 一体型商品{PC<:PriceCost, PR<:PriceRateOfFood} <: 商品\n",
    "    name::String\n",
    "    price::Int\n",
    "    function 一体型商品(name, price, groceriesprice)\n",
    "        pc = PriceCost(price)\n",
    "        pr = PriceRateOfFood(price, groceriesprice)\n",
    "        new{typeof(pc), typeof(pr)}(name, price)\n",
    "    end\n",
    "end"
   ]
  },
  {
   "cell_type": "code",
   "execution_count": 33,
   "metadata": {
    "ExecuteTime": {
     "end_time": "2020-02-08T14:18:45.209000+09:00",
     "start_time": "2020-02-08T05:18:45.192Z"
    }
   },
   "outputs": [
    {
     "data": {
      "text/plain": [
       "税率"
      ]
     },
     "execution_count": 33,
     "metadata": {},
     "output_type": "execute_result"
    }
   ],
   "source": [
    "税率(::Type{<:一体型商品}) = 標準税率()\n",
    "税率(::Type{一体型商品{Inexpensive, HighRate}}) = 軽減税率()"
   ]
  },
  {
   "cell_type": "markdown",
   "metadata": {},
   "source": [
    "↑Point！"
   ]
  },
  {
   "cell_type": "code",
   "execution_count": 34,
   "metadata": {
    "ExecuteTime": {
     "end_time": "2020-02-08T14:18:46.339000+09:00",
     "start_time": "2020-02-08T05:18:46.311Z"
    }
   },
   "outputs": [
    {
     "data": {
      "text/plain": [
       "13200"
      ]
     },
     "execution_count": 34,
     "metadata": {},
     "output_type": "execute_result"
    }
   ],
   "source": [
    "おせちセット = 一体型商品(\"高級おせち料理セット\", 12000, 8000)\n",
    "税込価格(おせちセット)  # 標準税率"
   ]
  },
  {
   "cell_type": "code",
   "execution_count": 35,
   "metadata": {
    "ExecuteTime": {
     "end_time": "2020-02-08T14:19:01.075000+09:00",
     "start_time": "2020-02-08T05:19:01.066Z"
    }
   },
   "outputs": [
    {
     "data": {
      "text/plain": [
       "440"
      ]
     },
     "execution_count": 35,
     "metadata": {},
     "output_type": "execute_result"
    }
   ],
   "source": [
    "チョコたまご = 一体型商品(\"チョコたまご\", 400, 200)\n",
    "税込価格(チョコたまご)  # 標準税率"
   ]
  },
  {
   "cell_type": "code",
   "execution_count": 36,
   "metadata": {
    "ExecuteTime": {
     "end_time": "2020-02-08T14:19:02.291000+09:00",
     "start_time": "2020-02-08T05:19:02.268Z"
    }
   },
   "outputs": [
    {
     "data": {
      "text/plain": [
       "129"
      ]
     },
     "execution_count": 36,
     "metadata": {},
     "output_type": "execute_result"
    }
   ],
   "source": [
    "シールチョコ = 一体型商品(\"おまけシール付きチョコ\", 120, 100)\n",
    "税込価格(シールチョコ)  # 軽減税率"
   ]
  },
  {
   "cell_type": "markdown",
   "metadata": {},
   "source": [
    "### 応用：商品購入型"
   ]
  },
  {
   "cell_type": "code",
   "execution_count": 37,
   "metadata": {
    "ExecuteTime": {
     "end_time": "2020-02-08T14:23:47.633000+09:00",
     "start_time": "2020-02-08T05:23:47.528Z"
    }
   },
   "outputs": [
    {
     "data": {
      "text/plain": [
       "商品購入"
      ]
     },
     "execution_count": 37,
     "metadata": {},
     "output_type": "execute_result"
    }
   ],
   "source": [
    "struct 商品購入{G <: 商品, K <: 提供形態}\n",
    "    商品::G\n",
    "    購入形態::K\n",
    "    商品購入(v::G, k::K) where {G <: 商品, K <: 提供形態} = new{G, K}(v, k)\n",
    "end\n",
    "\n",
    "商品購入(v::商品) = 商品購入(v, 持ち帰り())"
   ]
  },
  {
   "cell_type": "code",
   "execution_count": 42,
   "metadata": {
    "ExecuteTime": {
     "end_time": "2020-02-08T14:33:01.188000+09:00",
     "start_time": "2020-02-08T05:33:01.184Z"
    }
   },
   "outputs": [
    {
     "data": {
      "text/plain": [
       "税込価格 (generic function with 6 methods)"
      ]
     },
     "execution_count": 42,
     "metadata": {},
     "output_type": "execute_result"
    }
   ],
   "source": [
    "税込価格(p::P) where {P <: 商品購入} = 税込価格(税率(P), p.商品)"
   ]
  },
  {
   "cell_type": "markdown",
   "metadata": {},
   "source": [
    "#### 標準税率"
   ]
  },
  {
   "cell_type": "code",
   "execution_count": 39,
   "metadata": {
    "ExecuteTime": {
     "end_time": "2020-02-08T14:31:59.633000+09:00",
     "start_time": "2020-02-08T05:31:59.625Z"
    }
   },
   "outputs": [
    {
     "data": {
      "text/plain": [
       "税率"
      ]
     },
     "execution_count": 39,
     "metadata": {},
     "output_type": "execute_result"
    }
   ],
   "source": [
    "税率(::Type{<:商品購入}) = 標準税率()"
   ]
  },
  {
   "cell_type": "code",
   "execution_count": 40,
   "metadata": {
    "ExecuteTime": {
     "end_time": "2020-02-08T14:32:31.553000+09:00",
     "start_time": "2020-02-08T05:32:31.355Z"
    }
   },
   "outputs": [
    {
     "data": {
      "text/plain": [
       "商品購入{書籍,持ち帰り}(書籍(\"龍が目を覚ます\", \"宮木みゆべ\", 1980), 持ち帰り())"
      ]
     },
     "execution_count": 40,
     "metadata": {},
     "output_type": "execute_result"
    }
   ],
   "source": [
    "購入₁ = 商品購入(本₁) "
   ]
  },
  {
   "cell_type": "code",
   "execution_count": 43,
   "metadata": {
    "ExecuteTime": {
     "end_time": "2020-02-08T14:33:03.212000+09:00",
     "start_time": "2020-02-08T05:33:03.199Z"
    }
   },
   "outputs": [
    {
     "data": {
      "text/plain": [
       "2178"
      ]
     },
     "execution_count": 43,
     "metadata": {},
     "output_type": "execute_result"
    }
   ],
   "source": [
    "税込価格(購入₁)"
   ]
  },
  {
   "cell_type": "markdown",
   "metadata": {},
   "source": [
    "#### 標準税率 or 軽減税率"
   ]
  },
  {
   "cell_type": "code",
   "execution_count": 44,
   "metadata": {
    "ExecuteTime": {
     "end_time": "2020-02-08T14:35:27.380000+09:00",
     "start_time": "2020-02-08T05:35:27.374Z"
    }
   },
   "outputs": [
    {
     "data": {
      "text/plain": [
       "税率"
      ]
     },
     "execution_count": 44,
     "metadata": {},
     "output_type": "execute_result"
    }
   ],
   "source": [
    "# 税率(::Type{<:商品購入{飲食料品}}) = 標準税率()  # ← なくてもOK\n",
    "税率(::Type{商品購入{飲食料品, 持ち帰り}}) = 軽減税率()  # ←こっちが重要"
   ]
  },
  {
   "cell_type": "code",
   "execution_count": 45,
   "metadata": {
    "ExecuteTime": {
     "end_time": "2020-02-08T14:36:05.234000+09:00",
     "start_time": "2020-02-08T05:36:05.059Z"
    }
   },
   "outputs": [
    {
     "data": {
      "text/plain": [
       "商品購入{飲食料品,持ち帰り}(飲食料品(\"あんぱん\", 128), 持ち帰り())"
      ]
     },
     "execution_count": 45,
     "metadata": {},
     "output_type": "execute_result"
    }
   ],
   "source": [
    "あんぱん_持ち帰り = 商品購入(あんぱん, 持ち帰り())"
   ]
  },
  {
   "cell_type": "code",
   "execution_count": 46,
   "metadata": {
    "ExecuteTime": {
     "end_time": "2020-02-08T14:36:17.152000+09:00",
     "start_time": "2020-02-08T05:36:17.129Z"
    }
   },
   "outputs": [
    {
     "data": {
      "text/plain": [
       "138"
      ]
     },
     "execution_count": 46,
     "metadata": {},
     "output_type": "execute_result"
    }
   ],
   "source": [
    "税込価格(あんぱん_持ち帰り)"
   ]
  },
  {
   "cell_type": "code",
   "execution_count": 47,
   "metadata": {
    "ExecuteTime": {
     "end_time": "2020-02-08T14:36:34.124000+09:00",
     "start_time": "2020-02-08T05:36:33.946Z"
    }
   },
   "outputs": [
    {
     "data": {
      "text/plain": [
       "商品購入{飲食料品,店内飲食}(飲食料品(\"あんぱん\", 128), 店内飲食())"
      ]
     },
     "execution_count": 47,
     "metadata": {},
     "output_type": "execute_result"
    }
   ],
   "source": [
    "あんぱん_イートイン = 商品購入(あんぱん, イートイン())"
   ]
  },
  {
   "cell_type": "code",
   "execution_count": 48,
   "metadata": {
    "ExecuteTime": {
     "end_time": "2020-02-08T14:36:36.178000+09:00",
     "start_time": "2020-02-08T05:36:36.158Z"
    }
   },
   "outputs": [
    {
     "data": {
      "text/plain": [
       "140"
      ]
     },
     "execution_count": 48,
     "metadata": {},
     "output_type": "execute_result"
    }
   ],
   "source": [
    "税込価格(あんぱん_イートイン)"
   ]
  },
  {
   "cell_type": "code",
   "execution_count": 49,
   "metadata": {
    "ExecuteTime": {
     "end_time": "2020-02-08T14:38:53.644000+09:00",
     "start_time": "2020-02-08T05:38:53.635Z"
    }
   },
   "outputs": [
    {
     "data": {
      "text/plain": [
       "税率"
      ]
     },
     "execution_count": 49,
     "metadata": {},
     "output_type": "execute_result"
    }
   ],
   "source": [
    "# 税率(::Type{<:商品購入{<:一体型商品}}) = 標準税率()  # ← なくてもOK\n",
    "税率(::Type{商品購入{一体型商品{Inexpensive, HighRate}, 持ち帰り}}) = 軽減税率()  # ←こっちが重要"
   ]
  },
  {
   "cell_type": "code",
   "execution_count": 50,
   "metadata": {
    "ExecuteTime": {
     "end_time": "2020-02-08T14:40:07.498000+09:00",
     "start_time": "2020-02-08T05:40:07.468Z"
    }
   },
   "outputs": [
    {
     "data": {
      "text/plain": [
       "440"
      ]
     },
     "execution_count": 50,
     "metadata": {},
     "output_type": "execute_result"
    }
   ],
   "source": [
    "税込価格(商品購入(チョコたまご, 持ち帰り()))"
   ]
  },
  {
   "cell_type": "code",
   "execution_count": 51,
   "metadata": {
    "ExecuteTime": {
     "end_time": "2020-02-08T14:40:30.757000+09:00",
     "start_time": "2020-02-08T05:40:30.734Z"
    }
   },
   "outputs": [
    {
     "data": {
      "text/plain": [
       "129"
      ]
     },
     "execution_count": 51,
     "metadata": {},
     "output_type": "execute_result"
    }
   ],
   "source": [
    "税込価格(商品購入(シールチョコ, 持ち帰り()))"
   ]
  },
  {
   "cell_type": "code",
   "execution_count": 52,
   "metadata": {
    "ExecuteTime": {
     "end_time": "2020-02-08T14:40:38.233000+09:00",
     "start_time": "2020-02-08T05:40:38.205Z"
    }
   },
   "outputs": [
    {
     "data": {
      "text/plain": [
       "132"
      ]
     },
     "execution_count": 52,
     "metadata": {},
     "output_type": "execute_result"
    }
   ],
   "source": [
    "税込価格(商品購入(シールチョコ, イートイン()))"
   ]
  },
  {
   "cell_type": "code",
   "execution_count": null,
   "metadata": {},
   "outputs": [],
   "source": []
  }
 ],
 "metadata": {
  "gist": {
   "data": {
    "description": "消費税.jl.ipynb",
    "public": true
   },
   "id": ""
  },
  "kernelspec": {
   "display_name": "Julia 1.3.1",
   "language": "julia",
   "name": "julia-1.3"
  },
  "language_info": {
   "file_extension": ".jl",
   "mimetype": "application/julia",
   "name": "julia",
   "version": "1.3.1"
  }
 },
 "nbformat": 4,
 "nbformat_minor": 2
}
